{
 "cells": [
  {
   "cell_type": "markdown",
   "id": "2b450b43",
   "metadata": {},
   "source": [
    "# Importing libraries and datasets"
   ]
  },
  {
   "cell_type": "code",
   "execution_count": 15,
   "id": "839b05a7",
   "metadata": {},
   "outputs": [],
   "source": [
    "# Importing libraries\n",
    "import pandas as pd\n",
    "import numpy as np\n",
    "from sklearn import preprocessing\n",
    "from sklearn.preprocessing import LabelEncoder"
   ]
  },
  {
   "cell_type": "code",
   "execution_count": 16,
   "id": "23bebafc",
   "metadata": {},
   "outputs": [],
   "source": [
    "# Reading the training dataset  using Pandas\n",
    "train = pd.read_csv(\"train.csv\")\n",
    "# Reading the test dataset using Pandas\n",
    "test = pd.read_csv(\"test.csv\")"
   ]
  },
  {
   "cell_type": "code",
   "execution_count": 18,
   "id": "a910767e",
   "metadata": {},
   "outputs": [
    {
     "name": "stdout",
     "output_type": "stream",
     "text": [
      "<class 'pandas.core.frame.DataFrame'>\n",
      "RangeIndex: 614 entries, 0 to 613\n",
      "Data columns (total 13 columns):\n",
      " #   Column             Non-Null Count  Dtype  \n",
      "---  ------             --------------  -----  \n",
      " 0   Loan_ID            614 non-null    object \n",
      " 1   Gender             601 non-null    object \n",
      " 2   Married            611 non-null    object \n",
      " 3   Dependents         599 non-null    object \n",
      " 4   Education          614 non-null    object \n",
      " 5   Self_Employed      582 non-null    object \n",
      " 6   ApplicantIncome    614 non-null    int64  \n",
      " 7   CoapplicantIncome  614 non-null    float64\n",
      " 8   LoanAmount         592 non-null    float64\n",
      " 9   Loan_Amount_Term   600 non-null    float64\n",
      " 10  Credit_History     564 non-null    float64\n",
      " 11  Property_Area      614 non-null    object \n",
      " 12  Loan_Status        614 non-null    object \n",
      "dtypes: float64(4), int64(1), object(8)\n",
      "memory usage: 62.5+ KB\n"
     ]
    }
   ],
   "source": [
    "train.info()"
   ]
  },
  {
   "cell_type": "markdown",
   "id": "68e223e5",
   "metadata": {},
   "source": [
    "# Target Variable"
   ]
  },
  {
   "cell_type": "code",
   "execution_count": 17,
   "id": "035a705d",
   "metadata": {},
   "outputs": [
    {
     "name": "stdout",
     "output_type": "stream",
     "text": [
      "Y    422\n",
      "N    192\n",
      "Name: Loan_Status, dtype: int64\n"
     ]
    },
    {
     "data": {
      "image/png": "[encoded data removed]",
      "text/plain": [
       "<Figure size 432x288 with 1 Axes>"
      ]
     },
     "metadata": {
      "needs_background": "light"
     },
     "output_type": "display_data"
    }
   ],
   "source": [
    "train['Loan_Status'].hist()\n",
    "count= train['Loan_Status'].value_counts()\n",
    "print(count)"
   ]
  },
  {
   "cell_type": "markdown",
   "id": "9fad54c6",
   "metadata": {},
   "source": [
    "# categorical variable analysis"
   ]
  },
  {
   "cell_type": "code",
   "execution_count": 19,
   "id": "a3d2a77d",
   "metadata": {},
   "outputs": [
    {
     "name": "stdout",
     "output_type": "stream",
     "text": [
      "Male      489\n",
      "Female    112\n",
      "Name: Gender, dtype: int64\n"
     ]
    },
    {
     "data": {
      "image/png": "[encoded data removed]",
      "text/plain": [
       "<Figure size 432x288 with 1 Axes>"
      ]
     },
     "metadata": {
      "needs_background": "light"
     },
     "output_type": "display_data"
    }
   ],
   "source": [
    "train['Gender'].hist(bins=20)\n",
    "count=train['Gender'].value_counts()\n",
    "print(count)"
   ]
  },
  {
   "cell_type": "code",
   "execution_count": 20,
   "id": "a53e9cb2",
   "metadata": {},
   "outputs": [
    {
     "name": "stdout",
     "output_type": "stream",
     "text": [
      "Yes    398\n",
      "No     213\n",
      "Name: Married, dtype: int64\n"
     ]
    },
    {
     "data": {
      "image/png": "[encoded data removed]",
      "text/plain": [
       "<Figure size 432x288 with 1 Axes>"
      ]
     },
     "metadata": {
      "needs_background": "light"
     },
     "output_type": "display_data"
    }
   ],
   "source": [
    "train['Married'].hist(bins=20)\n",
    "count=train['Married'].value_counts()\n",
    "print(count)"
   ]
  },
  {
   "cell_type": "code",
   "execution_count": 21,
   "id": "df8610d6",
   "metadata": {},
   "outputs": [
    {
     "name": "stdout",
     "output_type": "stream",
     "text": [
      "No     500\n",
      "Yes     82\n",
      "Name: Self_Employed, dtype: int64\n"
     ]
    },
    {
     "data": {
      "image/png": "[encoded data removed]",
      "text/plain": [
       "<Figure size 432x288 with 1 Axes>"
      ]
     },
     "metadata": {
      "needs_background": "light"
     },
     "output_type": "display_data"
    }
   ],
   "source": [
    "train['Self_Employed'].hist(bins=20)\n",
    "count=train['Self_Employed'].value_counts()\n",
    "print(count)"
   ]
  },
  {
   "cell_type": "code",
   "execution_count": 22,
   "id": "da30ad36",
   "metadata": {},
   "outputs": [
    {
     "name": "stdout",
     "output_type": "stream",
     "text": [
      "1.0    475\n",
      "0.0     89\n",
      "Name: Credit_History, dtype: int64\n"
     ]
    },
    {
     "data": {
      "image/png": "[encoded data removed]",
      "text/plain": [
       "<Figure size 432x288 with 1 Axes>"
      ]
     },
     "metadata": {
      "needs_background": "light"
     },
     "output_type": "display_data"
    }
   ],
   "source": [
    "train['Credit_History'].hist(bins=20)\n",
    "count=train['Credit_History'].value_counts()\n",
    "print(count)"
   ]
  },
  {
   "cell_type": "markdown",
   "id": "c2403900",
   "metadata": {},
   "source": [
    "# Numerical variable "
   ]
  },
  {
   "cell_type": "code",
   "execution_count": 23,
   "id": "aade723d",
   "metadata": {},
   "outputs": [
    {
     "data": {
      "text/plain": [
       "<AxesSubplot:>"
      ]
     },
     "execution_count": 23,
     "metadata": {},
     "output_type": "execute_result"
    },
    {
     "data": {
      "image/png": "[encoded data removed]",
      "text/plain": [
       "<Figure size 432x288 with 1 Axes>"
      ]
     },
     "metadata": {
      "needs_background": "light"
     },
     "output_type": "display_data"
    }
   ],
   "source": [
    "train['ApplicantIncome'].hist(bins=20)"
   ]
  },
  {
   "cell_type": "code",
   "execution_count": 24,
   "id": "d7486f13",
   "metadata": {},
   "outputs": [
    {
     "data": {
      "text/plain": [
       "<AxesSubplot:>"
      ]
     },
     "execution_count": 24,
     "metadata": {},
     "output_type": "execute_result"
    },
    {
     "data": {
      "image/png": "[encoded data removed]",
      "text/plain": [
       "<Figure size 432x288 with 1 Axes>"
      ]
     },
     "metadata": {
      "needs_background": "light"
     },
     "output_type": "display_data"
    }
   ],
   "source": [
    "train.boxplot(column='ApplicantIncome')"
   ]
  },
  {
   "cell_type": "code",
   "execution_count": 25,
   "id": "bffe9152",
   "metadata": {},
   "outputs": [
    {
     "data": {
      "text/plain": [
       "<AxesSubplot:title={'center':'ApplicantIncome'}, xlabel='Education'>"
      ]
     },
     "execution_count": 25,
     "metadata": {},
     "output_type": "execute_result"
    },
    {
     "data": {
      "image/png": "[encoded data removed]",
      "text/plain": [
       "<Figure size 432x288 with 1 Axes>"
      ]
     },
     "metadata": {
      "needs_background": "light"
     },
     "output_type": "display_data"
    }
   ],
   "source": [
    "train.boxplot(column='ApplicantIncome', by = 'Education')"
   ]
  },
  {
   "cell_type": "code",
   "execution_count": 26,
   "id": "204953e5",
   "metadata": {},
   "outputs": [],
   "source": [
    "# Add both ApplicantIncome and CoapplicantIncome to TotalIncome\n",
    "train['TotalIncome']=train['ApplicantIncome']+train['CoapplicantIncome']"
   ]
  },
  {
   "cell_type": "code",
   "execution_count": 27,
   "id": "e32baecc",
   "metadata": {},
   "outputs": [
    {
     "data": {
      "text/plain": [
       "<AxesSubplot:>"
      ]
     },
     "execution_count": 27,
     "metadata": {},
     "output_type": "execute_result"
    },
    {
     "data": {
      "image/png": "[encoded data removed]",
      "text/plain": [
       "<Figure size 432x288 with 1 Axes>"
      ]
     },
     "metadata": {
      "needs_background": "light"
     },
     "output_type": "display_data"
    }
   ],
   "source": [
    "train['TotalIncome'].hist(bins=20)"
   ]
  },
  {
   "cell_type": "code",
   "execution_count": 28,
   "id": "b63934b6",
   "metadata": {},
   "outputs": [
    {
     "data": {
      "text/plain": [
       "<AxesSubplot:>"
      ]
     },
     "execution_count": 28,
     "metadata": {},
     "output_type": "execute_result"
    },
    {
     "data": {
      "image/png": "[encoded data removed]",
      "text/plain": [
       "<Figure size 432x288 with 1 Axes>"
      ]
     },
     "metadata": {
      "needs_background": "light"
     },
     "output_type": "display_data"
    }
   ],
   "source": [
    "train['LoanAmount'].hist()"
   ]
  },
  {
   "cell_type": "code",
   "execution_count": 29,
   "id": "cfbe02df",
   "metadata": {},
   "outputs": [],
   "source": [
    "# perform log transformation of TotalIncome to make it closer to normal\n",
    "train['LoanAmount_log']= np.log(train['LoanAmount'])"
   ]
  },
  {
   "cell_type": "code",
   "execution_count": 30,
   "id": "0c77188b",
   "metadata": {},
   "outputs": [
    {
     "data": {
      "text/plain": [
       "<AxesSubplot:>"
      ]
     },
     "execution_count": 30,
     "metadata": {},
     "output_type": "execute_result"
    },
    {
     "data": {
      "image/png": "[encoded data removed]",
      "text/plain": [
       "<Figure size 432x288 with 1 Axes>"
      ]
     },
     "metadata": {
      "needs_background": "light"
     },
     "output_type": "display_data"
    }
   ],
   "source": [
    "# Distribution of the TotalIncome_log\n",
    "train['LoanAmount_log'].hist(bins=20)"
   ]
  },
  {
   "cell_type": "markdown",
   "id": "9a3e1eda",
   "metadata": {},
   "source": [
    "# Checking & imputing missing values"
   ]
  },
  {
   "cell_type": "code",
   "execution_count": 31,
   "id": "d1229803",
   "metadata": {},
   "outputs": [
    {
     "data": {
      "text/plain": [
       "Loan_ID               0\n",
       "Gender               13\n",
       "Married               3\n",
       "Dependents           15\n",
       "Education             0\n",
       "Self_Employed        32\n",
       "ApplicantIncome       0\n",
       "CoapplicantIncome     0\n",
       "LoanAmount           22\n",
       "Loan_Amount_Term     14\n",
       "Credit_History       50\n",
       "Property_Area         0\n",
       "Loan_Status           0\n",
       "TotalIncome           0\n",
       "LoanAmount_log       22\n",
       "dtype: int64"
      ]
     },
     "execution_count": 31,
     "metadata": {},
     "output_type": "execute_result"
    }
   ],
   "source": [
    "train.isnull().sum()"
   ]
  },
  {
   "cell_type": "code",
   "execution_count": 32,
   "id": "84aa101b",
   "metadata": {},
   "outputs": [],
   "source": [
    "import missingno as msno"
   ]
  },
  {
   "cell_type": "code",
   "execution_count": 33,
   "id": "058ded42",
   "metadata": {},
   "outputs": [
    {
     "data": {
      "text/plain": [
       "<AxesSubplot:>"
      ]
     },
     "execution_count": 33,
     "metadata": {},
     "output_type": "execute_result"
    },
    {
     "data": {
      "image/png": "[encoded data removed]",
      "text/plain": [
       "<Figure size 1800x720 with 2 Axes>"
      ]
     },
     "metadata": {
      "needs_background": "light"
     },
     "output_type": "display_data"
    }
   ],
   "source": [
    "msno.matrix(train)"
   ]
  },
  {
   "cell_type": "code",
   "execution_count": 34,
   "id": "e9664309",
   "metadata": {},
   "outputs": [],
   "source": [
    "# Input missing values for Gender\n",
    "train['Gender'].fillna(train['Gender'].mode()[0],inplace=True) \n",
    "# Input missing values for Married\n",
    "train['Married'].fillna(train['Married'].mode()[0],inplace=True) \n",
    "# Input missing values for Dependents\n",
    "train['Dependents'].fillna(train['Dependents'].mode()[0],inplace=True) \n",
    "# Input missing values for Credit_History\n",
    "train['Credit_History'].fillna(train['Credit_History'].mode()[0],inplace=True)\n",
    "# Input missing values for Self_Employed\n",
    "train['Self_Employed'].fillna(train['Self_Employed'].mode()[0],inplace=True)\n",
    "# Input missing values for Loan_Amount_Term\n",
    "train['Loan_Amount_Term'].fillna(train['Loan_Amount_Term'].mode()[0],inplace=True)\n",
    "train.LoanAmount= train.LoanAmount.fillna(train.LoanAmount.mean())\n",
    "train.LoanAmount_log= train.LoanAmount_log.fillna(train.LoanAmount_log.mean())"
   ]
  },
  {
   "cell_type": "code",
   "execution_count": 35,
   "id": "98832fa1",
   "metadata": {},
   "outputs": [
    {
     "data": {
      "text/plain": [
       "Loan_ID              0\n",
       "Gender               0\n",
       "Married              0\n",
       "Dependents           0\n",
       "Education            0\n",
       "Self_Employed        0\n",
       "ApplicantIncome      0\n",
       "CoapplicantIncome    0\n",
       "LoanAmount           0\n",
       "Loan_Amount_Term     0\n",
       "Credit_History       0\n",
       "Property_Area        0\n",
       "Loan_Status          0\n",
       "TotalIncome          0\n",
       "LoanAmount_log       0\n",
       "dtype: int64"
      ]
     },
     "execution_count": 35,
     "metadata": {},
     "output_type": "execute_result"
    }
   ],
   "source": [
    "train.isnull().sum()"
   ]
  },
  {
   "cell_type": "code",
   "execution_count": 36,
   "id": "540e3aca",
   "metadata": {},
   "outputs": [
    {
     "data": {
      "text/plain": [
       "<AxesSubplot:>"
      ]
     },
     "execution_count": 36,
     "metadata": {},
     "output_type": "execute_result"
    },
    {
     "data": {
      "image/png": "[encoded data removed]",
      "text/plain": [
       "<Figure size 1800x720 with 2 Axes>"
      ]
     },
     "metadata": {
      "needs_background": "light"
     },
     "output_type": "display_data"
    }
   ],
   "source": [
    "msno.matrix(train)"
   ]
  },
  {
   "cell_type": "markdown",
   "id": "6c0b72e3",
   "metadata": {},
   "source": [
    "# Outlier treatment"
   ]
  },
  {
   "cell_type": "code",
   "execution_count": 37,
   "id": "f7dc789b",
   "metadata": {},
   "outputs": [
    {
     "data": {
      "text/plain": [
       "<AxesSubplot:>"
      ]
     },
     "execution_count": 37,
     "metadata": {},
     "output_type": "execute_result"
    },
    {
     "data": {
      "image/png": "[encoded data removed]",
      "text/plain": [
       "<Figure size 432x288 with 1 Axes>"
      ]
     },
     "metadata": {
      "needs_background": "light"
     },
     "output_type": "display_data"
    }
   ],
   "source": [
    "train['LoanAmount'].hist(bins=20)"
   ]
  },
  {
   "cell_type": "code",
   "execution_count": 38,
   "id": "10be92b8",
   "metadata": {},
   "outputs": [],
   "source": [
    "# perform log transformation of TotalIncome to make it closer to normal\n",
    "train['LoanAmount_log']= np.log(train['LoanAmount'])"
   ]
  },
  {
   "cell_type": "code",
   "execution_count": 39,
   "id": "6056fe1c",
   "metadata": {
    "scrolled": true
   },
   "outputs": [
    {
     "data": {
      "text/plain": [
       "<AxesSubplot:>"
      ]
     },
     "execution_count": 39,
     "metadata": {},
     "output_type": "execute_result"
    },
    {
     "data": {
      "image/png": "[encoded data removed]",
      "text/plain": [
       "<Figure size 432x288 with 1 Axes>"
      ]
     },
     "metadata": {
      "needs_background": "light"
     },
     "output_type": "display_data"
    }
   ],
   "source": [
    "train['LoanAmount_log'].hist(bins=20)"
   ]
  },
  {
   "cell_type": "markdown",
   "id": "be62d80b",
   "metadata": {},
   "source": [
    "# Splitting datasets"
   ]
  },
  {
   "cell_type": "code",
   "execution_count": 40,
   "id": "d5eb12d8",
   "metadata": {},
   "outputs": [],
   "source": [
    "X=train.iloc[:,np.r_[1:5,9:11,13:15]].values\n",
    "Y=train.iloc[:,12].values"
   ]
  },
  {
   "cell_type": "code",
   "execution_count": 41,
   "id": "19c1de5a",
   "metadata": {},
   "outputs": [
    {
     "data": {
      "text/plain": [
       "array([['Male', 'No', '0', ..., 1.0, 5849.0, 4.986425672954842],\n",
       "       ['Male', 'Yes', '1', ..., 1.0, 6091.0, 4.852030263919617],\n",
       "       ['Male', 'Yes', '0', ..., 1.0, 3000.0, 4.189654742026425],\n",
       "       ...,\n",
       "       ['Male', 'Yes', '1', ..., 1.0, 8312.0, 5.53338948872752],\n",
       "       ['Male', 'Yes', '2', ..., 1.0, 7583.0, 5.231108616854587],\n",
       "       ['Female', 'No', '0', ..., 0.0, 4583.0, 4.890349128221754]],\n",
       "      dtype=object)"
      ]
     },
     "execution_count": 41,
     "metadata": {},
     "output_type": "execute_result"
    }
   ],
   "source": [
    "X"
   ]
  },
  {
   "cell_type": "code",
   "execution_count": 42,
   "id": "6d933da7",
   "metadata": {},
   "outputs": [
    {
     "data": {
      "text/plain": [
       "array(['Y', 'N', 'Y', 'Y', 'Y', 'Y', 'Y', 'N', 'Y', 'N', 'Y', 'Y', 'Y',\n",
       "       'N', 'Y', 'Y', 'Y', 'N', 'N', 'Y', 'N', 'Y', 'N', 'N', 'N', 'Y',\n",
       "       'Y', 'Y', 'N', 'Y', 'N', 'N', 'N', 'Y', 'N', 'Y', 'N', 'Y', 'Y',\n",
       "       'Y', 'N', 'Y', 'Y', 'Y', 'Y', 'Y', 'Y', 'Y', 'N', 'Y', 'Y', 'Y',\n",
       "       'N', 'N', 'N', 'Y', 'Y', 'N', 'Y', 'Y', 'Y', 'Y', 'N', 'N', 'N',\n",
       "       'N', 'N', 'Y', 'Y', 'N', 'Y', 'Y', 'Y', 'N', 'Y', 'N', 'N', 'N',\n",
       "       'N', 'Y', 'Y', 'Y', 'N', 'N', 'Y', 'Y', 'Y', 'Y', 'Y', 'Y', 'Y',\n",
       "       'Y', 'Y', 'Y', 'Y', 'N', 'Y', 'Y', 'Y', 'Y', 'Y', 'Y', 'Y', 'Y',\n",
       "       'Y', 'Y', 'Y', 'N', 'N', 'Y', 'Y', 'Y', 'N', 'Y', 'Y', 'Y', 'Y',\n",
       "       'Y', 'N', 'Y', 'Y', 'Y', 'Y', 'Y', 'Y', 'Y', 'Y', 'Y', 'N', 'N',\n",
       "       'Y', 'Y', 'Y', 'Y', 'Y', 'N', 'N', 'Y', 'N', 'N', 'N', 'Y', 'Y',\n",
       "       'Y', 'Y', 'Y', 'Y', 'Y', 'N', 'Y', 'N', 'Y', 'N', 'N', 'Y', 'Y',\n",
       "       'Y', 'Y', 'Y', 'Y', 'Y', 'N', 'N', 'Y', 'Y', 'Y', 'N', 'Y', 'N',\n",
       "       'Y', 'Y', 'Y', 'N', 'Y', 'N', 'Y', 'Y', 'N', 'Y', 'N', 'N', 'N',\n",
       "       'Y', 'N', 'Y', 'Y', 'N', 'Y', 'Y', 'Y', 'Y', 'N', 'N', 'Y', 'Y',\n",
       "       'N', 'Y', 'Y', 'Y', 'N', 'Y', 'Y', 'N', 'Y', 'Y', 'Y', 'Y', 'Y',\n",
       "       'Y', 'N', 'N', 'N', 'Y', 'Y', 'Y', 'Y', 'N', 'Y', 'N', 'Y', 'N',\n",
       "       'Y', 'Y', 'Y', 'Y', 'N', 'N', 'Y', 'Y', 'Y', 'Y', 'Y', 'Y', 'Y',\n",
       "       'Y', 'Y', 'N', 'Y', 'Y', 'Y', 'Y', 'N', 'Y', 'Y', 'Y', 'N', 'Y',\n",
       "       'Y', 'Y', 'Y', 'N', 'N', 'Y', 'Y', 'N', 'Y', 'N', 'N', 'N', 'N',\n",
       "       'Y', 'Y', 'N', 'Y', 'Y', 'Y', 'Y', 'Y', 'N', 'Y', 'Y', 'Y', 'Y',\n",
       "       'Y', 'Y', 'Y', 'Y', 'Y', 'Y', 'Y', 'N', 'Y', 'Y', 'Y', 'N', 'Y',\n",
       "       'N', 'Y', 'Y', 'Y', 'Y', 'N', 'Y', 'N', 'Y', 'Y', 'Y', 'Y', 'N',\n",
       "       'N', 'N', 'Y', 'Y', 'Y', 'Y', 'N', 'Y', 'N', 'N', 'Y', 'Y', 'Y',\n",
       "       'Y', 'Y', 'N', 'Y', 'Y', 'Y', 'Y', 'N', 'Y', 'Y', 'Y', 'Y', 'Y',\n",
       "       'N', 'Y', 'Y', 'N', 'Y', 'Y', 'Y', 'Y', 'Y', 'Y', 'Y', 'Y', 'Y',\n",
       "       'N', 'Y', 'N', 'N', 'Y', 'Y', 'Y', 'Y', 'N', 'Y', 'Y', 'Y', 'Y',\n",
       "       'N', 'Y', 'N', 'Y', 'Y', 'Y', 'N', 'N', 'Y', 'N', 'Y', 'Y', 'Y',\n",
       "       'Y', 'N', 'N', 'N', 'Y', 'N', 'Y', 'Y', 'Y', 'N', 'Y', 'Y', 'Y',\n",
       "       'Y', 'N', 'Y', 'Y', 'Y', 'Y', 'Y', 'N', 'Y', 'Y', 'N', 'Y', 'Y',\n",
       "       'Y', 'Y', 'Y', 'Y', 'Y', 'Y', 'N', 'Y', 'Y', 'N', 'N', 'N', 'Y',\n",
       "       'Y', 'N', 'Y', 'Y', 'Y', 'N', 'N', 'N', 'Y', 'N', 'Y', 'N', 'Y',\n",
       "       'N', 'N', 'Y', 'Y', 'Y', 'N', 'Y', 'N', 'Y', 'Y', 'N', 'Y', 'Y',\n",
       "       'Y', 'Y', 'N', 'Y', 'Y', 'Y', 'Y', 'Y', 'Y', 'N', 'Y', 'Y', 'Y',\n",
       "       'Y', 'Y', 'Y', 'Y', 'Y', 'N', 'N', 'N', 'N', 'Y', 'N', 'Y', 'Y',\n",
       "       'Y', 'Y', 'N', 'Y', 'N', 'Y', 'Y', 'Y', 'Y', 'N', 'Y', 'N', 'Y',\n",
       "       'Y', 'N', 'Y', 'N', 'Y', 'Y', 'Y', 'Y', 'Y', 'N', 'Y', 'N', 'Y',\n",
       "       'Y', 'Y', 'Y', 'Y', 'Y', 'N', 'N', 'Y', 'N', 'Y', 'Y', 'Y', 'Y',\n",
       "       'N', 'Y', 'Y', 'Y', 'Y', 'N', 'Y', 'Y', 'Y', 'N', 'Y', 'Y', 'Y',\n",
       "       'N', 'Y', 'Y', 'N', 'Y', 'Y', 'N', 'N', 'Y', 'Y', 'N', 'N', 'N',\n",
       "       'Y', 'Y', 'Y', 'Y', 'N', 'Y', 'Y', 'Y', 'Y', 'Y', 'Y', 'Y', 'N',\n",
       "       'N', 'Y', 'Y', 'Y', 'Y', 'N', 'Y', 'Y', 'N', 'Y', 'Y', 'Y', 'Y',\n",
       "       'N', 'Y', 'N', 'Y', 'N', 'Y', 'Y', 'N', 'N', 'Y', 'Y', 'Y', 'Y',\n",
       "       'Y', 'Y', 'Y', 'Y', 'Y', 'N', 'Y', 'Y', 'N', 'N', 'N', 'Y', 'N',\n",
       "       'Y', 'N', 'N', 'Y', 'N', 'Y', 'Y', 'Y', 'Y', 'N', 'Y', 'N', 'N',\n",
       "       'N', 'Y', 'Y', 'Y', 'N', 'Y', 'N', 'Y', 'Y', 'Y', 'Y', 'N', 'N',\n",
       "       'Y', 'Y', 'N', 'Y', 'Y', 'Y', 'Y', 'N', 'Y', 'Y', 'Y', 'Y', 'Y',\n",
       "       'Y', 'Y', 'N'], dtype=object)"
      ]
     },
     "execution_count": 42,
     "metadata": {},
     "output_type": "execute_result"
    }
   ],
   "source": [
    "Y"
   ]
  },
  {
   "cell_type": "code",
   "execution_count": 43,
   "id": "af18de80",
   "metadata": {},
   "outputs": [],
   "source": [
    "from sklearn.model_selection  import train_test_split\n",
    "X_train, X_test, Y_train , Y_test= train_test_split(X,Y, test_size=0.2, random_state=0)"
   ]
  },
  {
   "cell_type": "code",
   "execution_count": 44,
   "id": "4a338ecb",
   "metadata": {},
   "outputs": [
    {
     "data": {
      "text/plain": [
       "array([['Male', 'Yes', '0', ..., 1.0, 5858.0, 4.875197323201151],\n",
       "       ['Male', 'No', '1', ..., 1.0, 11250.0, 5.278114659230517],\n",
       "       ['Male', 'Yes', '0', ..., 0.0, 5681.0, 5.003946305945459],\n",
       "       ...,\n",
       "       ['Male', 'Yes', '3+', ..., 1.0, 8334.0, 5.298317366548036],\n",
       "       ['Male', 'Yes', '0', ..., 1.0, 6033.0, 5.075173815233827],\n",
       "       ['Female', 'Yes', '0', ..., 1.0, 6486.0, 5.204006687076795]],\n",
       "      dtype=object)"
      ]
     },
     "execution_count": 44,
     "metadata": {},
     "output_type": "execute_result"
    }
   ],
   "source": [
    "X_train"
   ]
  },
  {
   "cell_type": "code",
   "execution_count": 45,
   "id": "e6c0f701",
   "metadata": {},
   "outputs": [
    {
     "data": {
      "text/plain": [
       "array([['Male', 'No', '0', 'Graduate', 360.0, 1.0, 7085.0,\n",
       "        4.430816798843313],\n",
       "       ['Female', 'No', '0', 'Graduate', 360.0, 1.0, 4230.0,\n",
       "        4.718498871295094],\n",
       "       ['Male', 'Yes', '0', 'Graduate', 360.0, 1.0, 10039.0,\n",
       "        5.780743515792329],\n",
       "       ['Male', 'Yes', '0', 'Graduate', 360.0, 1.0, 6784.0,\n",
       "        4.700480365792417],\n",
       "       ['Male', 'Yes', '2', 'Graduate', 360.0, 1.0, 3875.0,\n",
       "        4.574710978503383],\n",
       "       ['Male', 'Yes', '0', 'Not Graduate', 180.0, 0.0, 6058.0,\n",
       "        5.10594547390058],\n",
       "       ['Male', 'Yes', '3+', 'Graduate', 180.0, 1.0, 6417.0,\n",
       "        5.056245805348308],\n",
       "       ['Male', 'No', '0', 'Graduate', 360.0, 1.0, 12876.0,\n",
       "        6.003887067106539],\n",
       "       ['Male', 'No', '0', 'Graduate', 360.0, 0.0, 5124.0,\n",
       "        4.820281565605037],\n",
       "       ['Male', 'Yes', '0', 'Graduate', 360.0, 1.0, 5233.0,\n",
       "        4.852030263919617],\n",
       "       ['Female', 'No', '0', 'Graduate', 360.0, 1.0, 2917.0,\n",
       "        4.430816798843313],\n",
       "       ['Male', 'Yes', '1', 'Graduate', 360.0, 1.0, 2895.0,\n",
       "        4.553876891600541],\n",
       "       ['Female', 'No', '0', 'Graduate', 360.0, 1.0, 8333.0,\n",
       "        5.634789603169249],\n",
       "       ['Male', 'Yes', '2', 'Graduate', 360.0, 1.0, 8667.0,\n",
       "        5.4638318050256105],\n",
       "       ['Male', 'Yes', '0', 'Graduate', 360.0, 1.0, 14880.0,\n",
       "        4.564348191467836],\n",
       "       ['Male', 'Yes', '1', 'Graduate', 360.0, 1.0, 3875.0,\n",
       "        4.204692619390966],\n",
       "       ['Male', 'No', '1', 'Not Graduate', 360.0, 1.0, 4311.0,\n",
       "        5.247024072160486],\n",
       "       ['Male', 'No', '0', 'Not Graduate', 360.0, 1.0, 3946.0,\n",
       "        4.882801922586371],\n",
       "       ['Female', 'No', '0', 'Graduate', 360.0, 1.0, 2500.0,\n",
       "        4.532599493153256],\n",
       "       ['Male', 'Yes', '0', 'Not Graduate', 360.0, 0.0, 4787.0,\n",
       "        5.198497031265826],\n",
       "       ['Female', 'Yes', '0', 'Graduate', 360.0, 0.0, 6085.0,\n",
       "        4.787491742782046],\n",
       "       ['Male', 'Yes', '0', 'Graduate', 360.0, 1.0, 4765.0,\n",
       "        4.962844630259907],\n",
       "       ['Male', 'Yes', '2', 'Graduate', 360.0, 1.0, 7550.0,\n",
       "        4.68213122712422],\n",
       "       ['Male', 'Yes', '2', 'Graduate', 360.0, 1.0, 11500.0,\n",
       "        5.10594547390058],\n",
       "       ['Male', 'Yes', '0', 'Graduate', 360.0, 1.0, 4521.0,\n",
       "        4.060443010546419],\n",
       "       ['Male', 'Yes', '1', 'Graduate', 360.0, 1.0, 8069.0,\n",
       "        5.521460917862246],\n",
       "       ['Male', 'No', '0', 'Graduate', 360.0, 1.0, 8724.0,\n",
       "        5.231108616854587],\n",
       "       ['Male', 'Yes', '0', 'Graduate', 360.0, 1.0, 11333.0,\n",
       "        5.231108616854587],\n",
       "       ['Male', 'Yes', '3+', 'Graduate', 360.0, 0.0, 4680.0,\n",
       "        4.852030263919617],\n",
       "       ['Female', 'No', '0', 'Graduate', 360.0, 0.0, 5000.0,\n",
       "        4.634728988229636],\n",
       "       ['Male', 'Yes', '0', 'Graduate', 360.0, 1.0, 9083.0,\n",
       "        5.429345628954441],\n",
       "       ['Male', 'No', '0', 'Not Graduate', 360.0, 1.0, 4885.0,\n",
       "        3.871201010907891],\n",
       "       ['Male', 'Yes', '1', 'Not Graduate', 360.0, 1.0, 5100.0,\n",
       "        4.499809670330265],\n",
       "       ['Male', 'Yes', '0', 'Graduate', 360.0, 1.0, 9734.0,\n",
       "        5.19295685089021],\n",
       "       ['Male', 'Yes', '0', 'Graduate', 360.0, 1.0, 8235.0,\n",
       "        4.986425672954842],\n",
       "       ['Female', 'Yes', '0', 'Not Graduate', 360.0, 0.0, 5386.0,\n",
       "        5.181783550292085],\n",
       "       ['Male', 'Yes', '0', 'Graduate', 360.0, 1.0, 5717.0,\n",
       "        5.147494476813453],\n",
       "       ['Male', 'No', '0', 'Not Graduate', 360.0, 1.0, 4592.0,\n",
       "        4.836281906951478],\n",
       "       ['Male', 'Yes', '0', 'Graduate', 360.0, 1.0, 6250.0,\n",
       "        4.852030263919617],\n",
       "       ['Male', 'Yes', '2', 'Not Graduate', 360.0, 1.0, 3917.0,\n",
       "        4.68213122712422],\n",
       "       ['Female', 'No', '0', 'Graduate', 360.0, 1.0, 3244.0,\n",
       "        4.382026634673881],\n",
       "       ['Male', 'Yes', '3+', 'Graduate', 360.0, 0.0, 5900.0,\n",
       "        4.812184355372417],\n",
       "       ['Male', 'Yes', '2', 'Graduate', 120.0, 1.0, 2385.0,\n",
       "        2.833213344056216],\n",
       "       ['Male', 'Yes', '1', 'Not Graduate', 360.0, 1.0, 5783.0,\n",
       "        5.062595033026967],\n",
       "       ['Male', 'No', '0', 'Graduate', 360.0, 1.0, 3858.0,\n",
       "        4.330733340286331],\n",
       "       ['Male', 'No', '0', 'Graduate', 360.0, 1.0, 12083.0,\n",
       "        5.231108616854587],\n",
       "       ['Male', 'Yes', '1', 'Graduate', 360.0, 1.0, 3750.0,\n",
       "        4.7535901911063645],\n",
       "       ['Female', 'No', '0', 'Graduate', 360.0, 1.0, 4547.0,\n",
       "        4.74493212836325],\n",
       "       ['Male', 'Yes', '1', 'Graduate', 360.0, 1.0, 6091.0,\n",
       "        4.852030263919617],\n",
       "       ['Male', 'No', '0', 'Graduate', 360.0, 1.0, 6500.0,\n",
       "        4.941642422609304],\n",
       "       ['Male', 'Yes', '3+', 'Not Graduate', 360.0, 1.0, 3173.0,\n",
       "        4.30406509320417],\n",
       "       ['Male', 'Yes', '0', 'Graduate', 360.0, 1.0, 7083.0,\n",
       "        4.867534450455582],\n",
       "       ['Male', 'Yes', '0', 'Not Graduate', 360.0, 1.0, 4300.0,\n",
       "        4.672828834461906],\n",
       "       ['Male', 'No', '0', 'Graduate', 360.0, 1.0, 5505.0,\n",
       "        4.986425672954842],\n",
       "       ['Male', 'Yes', '0', 'Graduate', 360.0, 1.0, 3798.0,\n",
       "        4.718498871295094],\n",
       "       ['Male', 'Yes', '0', 'Graduate', 360.0, 1.0, 10916.0,\n",
       "        5.556828061699537],\n",
       "       ['Male', 'Yes', '0', 'Graduate', 360.0, 1.0, 4492.0,\n",
       "        4.553876891600541],\n",
       "       ['Male', 'No', '0', 'Not Graduate', 360.0, 1.0, 6216.0,\n",
       "        4.890349128221754],\n",
       "       ['Male', 'Yes', '2', 'Graduate', 360.0, 1.0, 5532.0,\n",
       "        5.123963979403259],\n",
       "       ['Male', 'No', '0', 'Graduate', 360.0, 1.0, 4191.0,\n",
       "        4.787491742782046],\n",
       "       ['Female', 'No', '0', 'Graduate', 360.0, 0.0, 11117.0,\n",
       "        4.919980925828125],\n",
       "       ['Female', 'No', '0', 'Graduate', 360.0, 1.0, 10000.0,\n",
       "        5.365976015021851],\n",
       "       ['Male', 'Yes', '0', 'Not Graduate', 360.0, 1.0, 4567.0,\n",
       "        4.74493212836325],\n",
       "       ['Female', 'No', '0', 'Graduate', 360.0, 0.0, 3510.0,\n",
       "        4.330733340286331],\n",
       "       ['Male', 'Yes', '2', 'Graduate', 360.0, 1.0, 5935.0,\n",
       "        4.890349128221754],\n",
       "       ['Male', 'Yes', '1', 'Graduate', 360.0, 1.0, 11580.0,\n",
       "        5.752572638825633],\n",
       "       ['Male', 'Yes', '0', 'Graduate', 360.0, 1.0, 6166.0,\n",
       "        5.075173815233827],\n",
       "       ['Male', 'No', '0', 'Graduate', 360.0, 1.0, 4897.0,\n",
       "        4.912654885736052],\n",
       "       ['Male', 'Yes', '0', 'Graduate', 360.0, 1.0, 6873.0,\n",
       "        5.204006687076795],\n",
       "       ['Male', 'No', '0', 'Not Graduate', 360.0, 1.0, 5484.0,\n",
       "        4.564348191467836],\n",
       "       ['Male', 'No', '0', 'Graduate', 360.0, 1.0, 6979.0,\n",
       "        4.204692619390966],\n",
       "       ['Female', 'Yes', '0', 'Graduate', 360.0, 1.0, 2928.0,\n",
       "        4.867534450455582],\n",
       "       ['Male', 'Yes', '2', 'Not Graduate', 360.0, 1.0, 5398.0,\n",
       "        5.056245805348308],\n",
       "       ['Male', 'Yes', '1', 'Not Graduate', 180.0, 1.0, 6608.0,\n",
       "        4.919980925828125],\n",
       "       ['Female', 'Yes', '0', 'Graduate', 360.0, 1.0, 5126.0,\n",
       "        4.969813299576001],\n",
       "       ['Male', 'Yes', '0', 'Not Graduate', 300.0, 1.0, 5297.0,\n",
       "        4.820281565605037],\n",
       "       ['Male', 'No', '0', 'Graduate', 360.0, 1.0, 35673.0,\n",
       "        4.499809670330265],\n",
       "       ['Male', 'No', '3+', 'Graduate', 360.0, 1.0, 15500.0,\n",
       "        5.768320995793772],\n",
       "       ['Male', 'Yes', '2', 'Graduate', 360.0, 1.0, 9703.0,\n",
       "        4.718498871295094],\n",
       "       ['Female', 'No', '0', 'Graduate', 360.0, 0.0, 4166.0,\n",
       "        4.7535901911063645],\n",
       "       ['Female', 'No', '0', 'Graduate', 480.0, 1.0, 4328.0,\n",
       "        4.727387818712341],\n",
       "       ['Male', 'Yes', '1', 'Graduate', 360.0, 1.0, 18333.0,\n",
       "        6.214608098422191],\n",
       "       ['Female', 'No', '0', 'Graduate', 360.0, 1.0, 7441.0,\n",
       "        5.267858159063328],\n",
       "       ['Male', 'Yes', '2', 'Graduate', 360.0, 1.0, 7583.0,\n",
       "        5.231108616854587],\n",
       "       ['Male', 'No', '0', 'Graduate', 480.0, 1.0, 3069.0,\n",
       "        4.2626798770413155],\n",
       "       ['Male', 'Yes', '0', 'Graduate', 12.0, 1.0, 7482.0,\n",
       "        4.709530201312334],\n",
       "       ['Male', 'Yes', '0', 'Graduate', 360.0, 1.0, 4801.0,\n",
       "        4.700480365792417],\n",
       "       ['Male', 'Yes', '2', 'Graduate', 360.0, 1.0, 11179.0,\n",
       "        5.298317366548036],\n",
       "       ['Male', 'No', '1', 'Graduate', 180.0, 1.0, 3667.0,\n",
       "        4.727387818712341],\n",
       "       ['Male', 'Yes', '1', 'Graduate', 360.0, 1.0, 4545.0,\n",
       "        4.6443908991413725],\n",
       "       ['Female', 'Yes', '0', 'Not Graduate', 360.0, 1.0, 3572.0,\n",
       "        4.605170185988092],\n",
       "       ['Male', 'No', '0', 'Graduate', 360.0, 1.0, 3167.0,\n",
       "        4.30406509320417],\n",
       "       ['Male', 'Yes', '1', 'Graduate', 84.0, 1.0, 7283.0,\n",
       "        5.147494476813453],\n",
       "       ['Male', 'Yes', '3+', 'Graduate', 300.0, 0.0, 7167.0,\n",
       "        5.19295685089021],\n",
       "       ['Female', 'No', '0', 'Graduate', 360.0, 1.0, 2900.0,\n",
       "        4.2626798770413155],\n",
       "       ['Male', 'No', '0', 'Not Graduate', 180.0, 0.0, 5454.0,\n",
       "        4.836281906951478],\n",
       "       ['Male', 'No', '0', 'Graduate', 180.0, 1.0, 6950.0,\n",
       "        5.1647859739235145],\n",
       "       ['Male', 'No', '0', 'Graduate', 360.0, 1.0, 5762.0,\n",
       "        4.969813299576001],\n",
       "       ['Male', 'Yes', '2', 'Not Graduate', 360.0, 1.0, 5093.0,\n",
       "        4.394449154672439],\n",
       "       ['Male', 'Yes', '1', 'Graduate', 360.0, 1.0, 9538.0,\n",
       "        5.231108616854587],\n",
       "       ['Male', 'Yes', '0', 'Graduate', 360.0, 1.0, 7977.0,\n",
       "        5.351858133476067],\n",
       "       ['Male', 'Yes', '0', 'Graduate', 360.0, 1.0, 3539.0,\n",
       "        4.605170185988092],\n",
       "       ['Male', 'Yes', '2', 'Graduate', 360.0, 1.0, 10819.0,\n",
       "        4.787491742782046],\n",
       "       ['Male', 'No', '0', 'Graduate', 180.0, 1.0, 10383.0,\n",
       "        4.787491742782046],\n",
       "       ['Male', 'Yes', '3+', 'Graduate', 360.0, 1.0, 5703.0,\n",
       "        4.852030263919617],\n",
       "       ['Male', 'No', '0', 'Graduate', 360.0, 1.0, 4950.0,\n",
       "        4.8283137373023015],\n",
       "       ['Male', 'No', '0', 'Not Graduate', 360.0, 1.0, 4750.0,\n",
       "        4.6443908991413725],\n",
       "       ['Female', 'No', '0', 'Graduate', 360.0, 1.0, 3410.0,\n",
       "        4.477336814478207],\n",
       "       ['Male', 'Yes', '0', 'Not Graduate', 360.0, 1.0, 3849.0,\n",
       "        4.553876891600541],\n",
       "       ['Male', 'Yes', '3+', 'Not Graduate', 180.0, 1.0, 3522.0,\n",
       "        4.394449154672439],\n",
       "       ['Male', 'No', '0', 'Graduate', 360.0, 1.0, 6400.0,\n",
       "        5.298317366548036],\n",
       "       ['Female', 'No', '0', 'Graduate', 360.0, 1.0, 3418.0,\n",
       "        4.90527477843843],\n",
       "       ['Male', 'No', '0', 'Graduate', 480.0, 1.0, 3750.0,\n",
       "        4.727387818712341],\n",
       "       ['Male', 'Yes', '2', 'Graduate', 360.0, 1.0, 3900.0,\n",
       "        4.248495242049359],\n",
       "       ['Male', 'Yes', '0', 'Not Graduate', 360.0, 0.0, 5558.0,\n",
       "        5.303304908059076],\n",
       "       ['Male', 'Yes', '0', 'Graduate', 180.0, 0.0, 4949.0,\n",
       "        4.499809670330265],\n",
       "       ['Female', 'No', '0', 'Graduate', 360.0, 1.0, 4292.0,\n",
       "        4.430816798843313],\n",
       "       ['Male', 'No', '0', 'Graduate', 360.0, 1.0, 4269.0,\n",
       "        4.897839799950911],\n",
       "       ['Male', 'Yes', '2', 'Graduate', 360.0, 1.0, 7100.0,\n",
       "        5.170483995038151],\n",
       "       ['Male', 'Yes', '3+', 'Graduate', 360.0, 1.0, 13746.0,\n",
       "        4.867534450455582],\n",
       "       ['Male', 'Yes', '0', 'Graduate', 360.0, 1.0, 14583.0,\n",
       "        6.077642243349034],\n",
       "       ['Male', 'Yes', '3+', 'Not Graduate', 180.0, 0.0, 4611.0,\n",
       "        4.248495242049359],\n",
       "       ['Male', 'Yes', '1', 'Graduate', 360.0, 1.0, 3428.0,\n",
       "        4.564348191467836]], dtype=object)"
      ]
     },
     "execution_count": 45,
     "metadata": {},
     "output_type": "execute_result"
    }
   ],
   "source": [
    "X_test"
   ]
  },
  {
   "cell_type": "code",
   "execution_count": 47,
   "id": "63925897",
   "metadata": {},
   "outputs": [
    {
     "data": {
      "text/plain": [
       "array(['Y', 'N', 'N', 'Y', 'Y', 'N', 'Y', 'Y', 'Y', 'N', 'N', 'Y', 'Y',\n",
       "       'Y', 'Y', 'Y', 'Y', 'Y', 'Y', 'N', 'Y', 'Y', 'N', 'Y', 'Y', 'N',\n",
       "       'N', 'Y', 'Y', 'Y', 'N', 'Y', 'Y', 'Y', 'Y', 'Y', 'N', 'Y', 'N',\n",
       "       'Y', 'N', 'Y', 'Y', 'Y', 'Y', 'N', 'N', 'N', 'Y', 'Y', 'Y', 'N',\n",
       "       'Y', 'Y', 'Y', 'Y', 'Y', 'Y', 'Y', 'Y', 'N', 'Y', 'N', 'Y', 'Y',\n",
       "       'N', 'Y', 'Y', 'Y', 'Y', 'Y', 'N', 'N', 'Y', 'Y', 'N', 'Y', 'N',\n",
       "       'N', 'Y', 'N', 'N', 'Y', 'Y', 'Y', 'Y', 'Y', 'Y', 'Y', 'Y', 'N',\n",
       "       'Y', 'N', 'Y', 'N', 'Y', 'Y', 'Y', 'Y', 'N', 'N', 'Y', 'Y', 'Y',\n",
       "       'N', 'Y', 'Y', 'N', 'N', 'N', 'Y', 'Y', 'Y', 'N', 'Y', 'N', 'N',\n",
       "       'Y', 'N', 'N', 'N', 'Y', 'Y', 'Y', 'Y', 'Y', 'N', 'N', 'N', 'N',\n",
       "       'Y', 'Y', 'N', 'Y', 'Y', 'Y', 'Y', 'Y', 'Y', 'N', 'N', 'Y', 'Y',\n",
       "       'Y', 'Y', 'Y', 'N', 'Y', 'Y', 'Y', 'Y', 'Y', 'Y', 'Y', 'Y', 'Y',\n",
       "       'Y', 'N', 'Y', 'Y', 'Y', 'Y', 'Y', 'Y', 'Y', 'Y', 'Y', 'Y', 'Y',\n",
       "       'N', 'N', 'Y', 'Y', 'Y', 'Y', 'N', 'N', 'Y', 'N', 'Y', 'N', 'N',\n",
       "       'N', 'Y', 'N', 'Y', 'Y', 'Y', 'Y', 'Y', 'N', 'N', 'Y', 'N', 'Y',\n",
       "       'Y', 'Y', 'Y', 'N', 'N', 'Y', 'Y', 'Y', 'Y', 'Y', 'N', 'N', 'Y',\n",
       "       'Y', 'Y', 'Y', 'N', 'Y', 'Y', 'Y', 'Y', 'N', 'N', 'Y', 'Y', 'N',\n",
       "       'Y', 'Y', 'Y', 'N', 'Y', 'Y', 'Y', 'N', 'Y', 'N', 'Y', 'N', 'Y',\n",
       "       'Y', 'N', 'N', 'N', 'Y', 'N', 'Y', 'Y', 'Y', 'Y', 'Y', 'N', 'Y',\n",
       "       'Y', 'Y', 'Y', 'Y', 'Y', 'N', 'Y', 'N', 'Y', 'N', 'Y', 'Y', 'Y',\n",
       "       'Y', 'Y', 'Y', 'Y', 'Y', 'Y', 'N', 'N', 'Y', 'N', 'Y', 'Y', 'Y',\n",
       "       'N', 'Y', 'Y', 'N', 'Y', 'N', 'Y', 'N', 'Y', 'Y', 'Y', 'Y', 'Y',\n",
       "       'Y', 'Y', 'Y', 'Y', 'N', 'Y', 'Y', 'N', 'Y', 'Y', 'Y', 'N', 'N',\n",
       "       'Y', 'Y', 'Y', 'Y', 'N', 'Y', 'N', 'Y', 'Y', 'Y', 'Y', 'Y', 'N',\n",
       "       'Y', 'N', 'Y', 'N', 'N', 'Y', 'Y', 'N', 'Y', 'Y', 'N', 'Y', 'Y',\n",
       "       'N', 'N', 'Y', 'Y', 'Y', 'Y', 'Y', 'Y', 'N', 'Y', 'Y', 'Y', 'N',\n",
       "       'Y', 'N', 'N', 'N', 'N', 'Y', 'Y', 'Y', 'Y', 'N', 'N', 'Y', 'Y',\n",
       "       'Y', 'Y', 'N', 'Y', 'N', 'Y', 'Y', 'Y', 'Y', 'Y', 'N', 'Y', 'Y',\n",
       "       'Y', 'Y', 'Y', 'Y', 'Y', 'N', 'Y', 'N', 'N', 'N', 'Y', 'Y', 'N',\n",
       "       'Y', 'Y', 'Y', 'Y', 'N', 'Y', 'Y', 'N', 'Y', 'N', 'N', 'N', 'Y',\n",
       "       'Y', 'Y', 'Y', 'Y', 'Y', 'Y', 'Y', 'N', 'Y', 'N', 'Y', 'Y', 'Y',\n",
       "       'N', 'Y', 'Y', 'Y', 'N', 'N', 'Y', 'Y', 'Y', 'Y', 'N', 'Y', 'Y',\n",
       "       'Y', 'Y', 'Y', 'Y', 'N', 'Y', 'N', 'Y', 'N', 'Y', 'Y', 'N', 'N',\n",
       "       'Y', 'Y', 'N', 'Y', 'Y', 'Y', 'Y', 'Y', 'Y', 'Y', 'N', 'Y', 'Y',\n",
       "       'N', 'N', 'Y', 'N', 'Y', 'Y', 'Y', 'Y', 'Y', 'Y', 'Y', 'N', 'N',\n",
       "       'Y', 'N', 'N', 'N', 'N', 'N', 'Y', 'Y', 'Y', 'Y', 'Y', 'Y', 'N',\n",
       "       'Y', 'N', 'Y', 'N', 'N', 'Y', 'Y', 'Y', 'N', 'Y', 'Y', 'N', 'N',\n",
       "       'N', 'N', 'Y', 'Y', 'Y', 'Y', 'N', 'Y', 'N', 'Y'], dtype=object)"
      ]
     },
     "execution_count": 47,
     "metadata": {},
     "output_type": "execute_result"
    }
   ],
   "source": [
    "Y_train"
   ]
  },
  {
   "cell_type": "code",
   "execution_count": 46,
   "id": "a2967f55",
   "metadata": {},
   "outputs": [
    {
     "data": {
      "text/plain": [
       "array(['Y', 'N', 'Y', 'N', 'Y', 'N', 'Y', 'Y', 'N', 'Y', 'Y', 'Y', 'Y',\n",
       "       'Y', 'Y', 'N', 'N', 'Y', 'Y', 'N', 'N', 'Y', 'Y', 'Y', 'Y', 'Y',\n",
       "       'Y', 'Y', 'N', 'N', 'Y', 'Y', 'Y', 'Y', 'Y', 'N', 'Y', 'Y', 'Y',\n",
       "       'Y', 'Y', 'N', 'Y', 'Y', 'Y', 'Y', 'Y', 'Y', 'N', 'Y', 'Y', 'Y',\n",
       "       'Y', 'Y', 'Y', 'Y', 'Y', 'N', 'Y', 'Y', 'Y', 'N', 'Y', 'N', 'Y',\n",
       "       'Y', 'Y', 'Y', 'Y', 'Y', 'N', 'Y', 'Y', 'Y', 'Y', 'Y', 'N', 'N',\n",
       "       'Y', 'N', 'Y', 'N', 'N', 'Y', 'N', 'Y', 'Y', 'Y', 'Y', 'Y', 'Y',\n",
       "       'N', 'N', 'N', 'Y', 'N', 'Y', 'Y', 'Y', 'Y', 'Y', 'Y', 'Y', 'N',\n",
       "       'Y', 'Y', 'Y', 'Y', 'Y', 'N', 'Y', 'N', 'N', 'Y', 'N', 'Y', 'Y',\n",
       "       'Y', 'Y', 'Y', 'Y', 'N', 'Y'], dtype=object)"
      ]
     },
     "execution_count": 46,
     "metadata": {},
     "output_type": "execute_result"
    }
   ],
   "source": [
    "Y_test"
   ]
  },
  {
   "cell_type": "code",
   "execution_count": 48,
   "id": "f44010fc",
   "metadata": {},
   "outputs": [],
   "source": [
    "from sklearn.preprocessing import LabelEncoder\n",
    "labelencoder_X = LabelEncoder()"
   ]
  },
  {
   "cell_type": "code",
   "execution_count": 49,
   "id": "726449bf",
   "metadata": {},
   "outputs": [],
   "source": [
    "for i in range(0, 5):\n",
    "    X_train[:,i]= labelencoder_X.fit_transform(X_train[:,i])"
   ]
  },
  {
   "cell_type": "code",
   "execution_count": 50,
   "id": "bbe4f894",
   "metadata": {},
   "outputs": [],
   "source": [
    "X_train[:,7]= labelencoder_X.fit_transform(X_train[:,7])"
   ]
  },
  {
   "cell_type": "code",
   "execution_count": 51,
   "id": "3b98b7ce",
   "metadata": {},
   "outputs": [
    {
     "data": {
      "text/plain": [
       "array([[1, 1, 0, ..., 1.0, 5858.0, 80],\n",
       "       [1, 0, 1, ..., 1.0, 11250.0, 131],\n",
       "       [1, 1, 0, ..., 0.0, 5681.0, 98],\n",
       "       ...,\n",
       "       [1, 1, 3, ..., 1.0, 8334.0, 132],\n",
       "       [1, 1, 0, ..., 1.0, 6033.0, 108],\n",
       "       [0, 1, 0, ..., 1.0, 6486.0, 122]], dtype=object)"
      ]
     },
     "execution_count": 51,
     "metadata": {},
     "output_type": "execute_result"
    }
   ],
   "source": [
    "X_train"
   ]
  },
  {
   "cell_type": "code",
   "execution_count": 52,
   "id": "59cd8e9b",
   "metadata": {},
   "outputs": [],
   "source": [
    "labelencoder_Y= LabelEncoder()\n",
    "Y_train= labelencoder_Y.fit_transform(Y_train)"
   ]
  },
  {
   "cell_type": "code",
   "execution_count": 53,
   "id": "4869c579",
   "metadata": {},
   "outputs": [
    {
     "data": {
      "text/plain": [
       "array([1, 0, 0, 1, 1, 0, 1, 1, 1, 0, 0, 1, 1, 1, 1, 1, 1, 1, 1, 0, 1, 1,\n",
       "       0, 1, 1, 0, 0, 1, 1, 1, 0, 1, 1, 1, 1, 1, 0, 1, 0, 1, 0, 1, 1, 1,\n",
       "       1, 0, 0, 0, 1, 1, 1, 0, 1, 1, 1, 1, 1, 1, 1, 1, 0, 1, 0, 1, 1, 0,\n",
       "       1, 1, 1, 1, 1, 0, 0, 1, 1, 0, 1, 0, 0, 1, 0, 0, 1, 1, 1, 1, 1, 1,\n",
       "       1, 1, 0, 1, 0, 1, 0, 1, 1, 1, 1, 0, 0, 1, 1, 1, 0, 1, 1, 0, 0, 0,\n",
       "       1, 1, 1, 0, 1, 0, 0, 1, 0, 0, 0, 1, 1, 1, 1, 1, 0, 0, 0, 0, 1, 1,\n",
       "       0, 1, 1, 1, 1, 1, 1, 0, 0, 1, 1, 1, 1, 1, 0, 1, 1, 1, 1, 1, 1, 1,\n",
       "       1, 1, 1, 0, 1, 1, 1, 1, 1, 1, 1, 1, 1, 1, 1, 0, 0, 1, 1, 1, 1, 0,\n",
       "       0, 1, 0, 1, 0, 0, 0, 1, 0, 1, 1, 1, 1, 1, 0, 0, 1, 0, 1, 1, 1, 1,\n",
       "       0, 0, 1, 1, 1, 1, 1, 0, 0, 1, 1, 1, 1, 0, 1, 1, 1, 1, 0, 0, 1, 1,\n",
       "       0, 1, 1, 1, 0, 1, 1, 1, 0, 1, 0, 1, 0, 1, 1, 0, 0, 0, 1, 0, 1, 1,\n",
       "       1, 1, 1, 0, 1, 1, 1, 1, 1, 1, 0, 1, 0, 1, 0, 1, 1, 1, 1, 1, 1, 1,\n",
       "       1, 1, 0, 0, 1, 0, 1, 1, 1, 0, 1, 1, 0, 1, 0, 1, 0, 1, 1, 1, 1, 1,\n",
       "       1, 1, 1, 1, 0, 1, 1, 0, 1, 1, 1, 0, 0, 1, 1, 1, 1, 0, 1, 0, 1, 1,\n",
       "       1, 1, 1, 0, 1, 0, 1, 0, 0, 1, 1, 0, 1, 1, 0, 1, 1, 0, 0, 1, 1, 1,\n",
       "       1, 1, 1, 0, 1, 1, 1, 0, 1, 0, 0, 0, 0, 1, 1, 1, 1, 0, 0, 1, 1, 1,\n",
       "       1, 0, 1, 0, 1, 1, 1, 1, 1, 0, 1, 1, 1, 1, 1, 1, 1, 0, 1, 0, 0, 0,\n",
       "       1, 1, 0, 1, 1, 1, 1, 0, 1, 1, 0, 1, 0, 0, 0, 1, 1, 1, 1, 1, 1, 1,\n",
       "       1, 0, 1, 0, 1, 1, 1, 0, 1, 1, 1, 0, 0, 1, 1, 1, 1, 0, 1, 1, 1, 1,\n",
       "       1, 1, 0, 1, 0, 1, 0, 1, 1, 0, 0, 1, 1, 0, 1, 1, 1, 1, 1, 1, 1, 0,\n",
       "       1, 1, 0, 0, 1, 0, 1, 1, 1, 1, 1, 1, 1, 0, 0, 1, 0, 0, 0, 0, 0, 1,\n",
       "       1, 1, 1, 1, 1, 0, 1, 0, 1, 0, 0, 1, 1, 1, 0, 1, 1, 0, 0, 0, 0, 1,\n",
       "       1, 1, 1, 0, 1, 0, 1])"
      ]
     },
     "execution_count": 53,
     "metadata": {},
     "output_type": "execute_result"
    }
   ],
   "source": [
    "Y_train"
   ]
  },
  {
   "cell_type": "code",
   "execution_count": 54,
   "id": "715b178b",
   "metadata": {},
   "outputs": [],
   "source": [
    "for i in range(0, 5):\n",
    "    X_test[:,i]= labelencoder_X.fit_transform(X_test[:,i])"
   ]
  },
  {
   "cell_type": "code",
   "execution_count": 55,
   "id": "babb9325",
   "metadata": {},
   "outputs": [],
   "source": [
    "X_test[:,7]= labelencoder_X.fit_transform(X_test[:,7])"
   ]
  },
  {
   "cell_type": "code",
   "execution_count": 58,
   "id": "1d5a3c18",
   "metadata": {},
   "outputs": [],
   "source": [
    "labelencoder_Y= LabelEncoder()\n",
    "Y_test= labelencoder_Y.fit_transform(Y_test)"
   ]
  },
  {
   "cell_type": "code",
   "execution_count": 59,
   "id": "4021f8b7",
   "metadata": {},
   "outputs": [
    {
     "data": {
      "text/plain": [
       "array([[1, 0, 0, 0, 5, 1.0, 7085.0, 10],\n",
       "       [0, 0, 0, 0, 5, 1.0, 4230.0, 24],\n",
       "       [1, 1, 0, 0, 5, 1.0, 10039.0, 71],\n",
       "       [1, 1, 0, 0, 5, 1.0, 6784.0, 22],\n",
       "       [1, 1, 2, 0, 5, 1.0, 3875.0, 16],\n",
       "       [1, 1, 0, 1, 3, 0.0, 6058.0, 48],\n",
       "       [1, 1, 3, 0, 3, 1.0, 6417.0, 45],\n",
       "       [1, 0, 0, 0, 5, 1.0, 12876.0, 72],\n",
       "       [1, 0, 0, 0, 5, 0.0, 5124.0, 30],\n",
       "       [1, 1, 0, 0, 5, 1.0, 5233.0, 33],\n",
       "       [0, 0, 0, 0, 5, 1.0, 2917.0, 10],\n",
       "       [1, 1, 1, 0, 5, 1.0, 2895.0, 14],\n",
       "       [0, 0, 0, 0, 5, 1.0, 8333.0, 68],\n",
       "       [1, 1, 2, 0, 5, 1.0, 8667.0, 65],\n",
       "       [1, 1, 0, 0, 5, 1.0, 14880.0, 15],\n",
       "       [1, 1, 1, 0, 5, 1.0, 3875.0, 3],\n",
       "       [1, 0, 1, 1, 5, 1.0, 4311.0, 58],\n",
       "       [1, 0, 0, 1, 5, 1.0, 3946.0, 35],\n",
       "       [0, 0, 0, 0, 5, 1.0, 2500.0, 13],\n",
       "       [1, 1, 0, 1, 5, 0.0, 4787.0, 55],\n",
       "       [0, 1, 0, 0, 5, 0.0, 6085.0, 28],\n",
       "       [1, 1, 0, 0, 5, 1.0, 4765.0, 42],\n",
       "       [1, 1, 2, 0, 5, 1.0, 7550.0, 21],\n",
       "       [1, 1, 2, 0, 5, 1.0, 11500.0, 48],\n",
       "       [1, 1, 0, 0, 5, 1.0, 4521.0, 2],\n",
       "       [1, 1, 1, 0, 5, 1.0, 8069.0, 66],\n",
       "       [1, 0, 0, 0, 5, 1.0, 8724.0, 57],\n",
       "       [1, 1, 0, 0, 5, 1.0, 11333.0, 57],\n",
       "       [1, 1, 3, 0, 5, 0.0, 4680.0, 33],\n",
       "       [0, 0, 0, 0, 5, 0.0, 5000.0, 18],\n",
       "       [1, 1, 0, 0, 5, 1.0, 9083.0, 64],\n",
       "       [1, 0, 0, 1, 5, 1.0, 4885.0, 1],\n",
       "       [1, 1, 1, 1, 5, 1.0, 5100.0, 12],\n",
       "       [1, 1, 0, 0, 5, 1.0, 9734.0, 54],\n",
       "       [1, 1, 0, 0, 5, 1.0, 8235.0, 44],\n",
       "       [0, 1, 0, 1, 5, 0.0, 5386.0, 53],\n",
       "       [1, 1, 0, 0, 5, 1.0, 5717.0, 50],\n",
       "       [1, 0, 0, 1, 5, 1.0, 4592.0, 32],\n",
       "       [1, 1, 0, 0, 5, 1.0, 6250.0, 33],\n",
       "       [1, 1, 2, 1, 5, 1.0, 3917.0, 21],\n",
       "       [0, 0, 0, 0, 5, 1.0, 3244.0, 8],\n",
       "       [1, 1, 3, 0, 5, 0.0, 5900.0, 29],\n",
       "       [1, 1, 2, 0, 2, 1.0, 2385.0, 0],\n",
       "       [1, 1, 1, 1, 5, 1.0, 5783.0, 46],\n",
       "       [1, 0, 0, 0, 5, 1.0, 3858.0, 7],\n",
       "       [1, 0, 0, 0, 5, 1.0, 12083.0, 57],\n",
       "       [1, 1, 1, 0, 5, 1.0, 3750.0, 27],\n",
       "       [0, 0, 0, 0, 5, 1.0, 4547.0, 26],\n",
       "       [1, 1, 1, 0, 5, 1.0, 6091.0, 33],\n",
       "       [1, 0, 0, 0, 5, 1.0, 6500.0, 41],\n",
       "       [1, 1, 3, 1, 5, 1.0, 3173.0, 6],\n",
       "       [1, 1, 0, 0, 5, 1.0, 7083.0, 34],\n",
       "       [1, 1, 0, 1, 5, 1.0, 4300.0, 20],\n",
       "       [1, 0, 0, 0, 5, 1.0, 5505.0, 44],\n",
       "       [1, 1, 0, 0, 5, 1.0, 3798.0, 24],\n",
       "       [1, 1, 0, 0, 5, 1.0, 10916.0, 67],\n",
       "       [1, 1, 0, 0, 5, 1.0, 4492.0, 14],\n",
       "       [1, 0, 0, 1, 5, 1.0, 6216.0, 36],\n",
       "       [1, 1, 2, 0, 5, 1.0, 5532.0, 49],\n",
       "       [1, 0, 0, 0, 5, 1.0, 4191.0, 28],\n",
       "       [0, 0, 0, 0, 5, 0.0, 11117.0, 40],\n",
       "       [0, 0, 0, 0, 5, 1.0, 10000.0, 63],\n",
       "       [1, 1, 0, 1, 5, 1.0, 4567.0, 26],\n",
       "       [0, 0, 0, 0, 5, 0.0, 3510.0, 7],\n",
       "       [1, 1, 2, 0, 5, 1.0, 5935.0, 36],\n",
       "       [1, 1, 1, 0, 5, 1.0, 11580.0, 69],\n",
       "       [1, 1, 0, 0, 5, 1.0, 6166.0, 47],\n",
       "       [1, 0, 0, 0, 5, 1.0, 4897.0, 39],\n",
       "       [1, 1, 0, 0, 5, 1.0, 6873.0, 56],\n",
       "       [1, 0, 0, 1, 5, 1.0, 5484.0, 15],\n",
       "       [1, 0, 0, 0, 5, 1.0, 6979.0, 3],\n",
       "       [0, 1, 0, 0, 5, 1.0, 2928.0, 34],\n",
       "       [1, 1, 2, 1, 5, 1.0, 5398.0, 45],\n",
       "       [1, 1, 1, 1, 3, 1.0, 6608.0, 40],\n",
       "       [0, 1, 0, 0, 5, 1.0, 5126.0, 43],\n",
       "       [1, 1, 0, 1, 4, 1.0, 5297.0, 30],\n",
       "       [1, 0, 0, 0, 5, 1.0, 35673.0, 12],\n",
       "       [1, 0, 3, 0, 5, 1.0, 15500.0, 70],\n",
       "       [1, 1, 2, 0, 5, 1.0, 9703.0, 24],\n",
       "       [0, 0, 0, 0, 5, 0.0, 4166.0, 27],\n",
       "       [0, 0, 0, 0, 6, 1.0, 4328.0, 25],\n",
       "       [1, 1, 1, 0, 5, 1.0, 18333.0, 74],\n",
       "       [0, 0, 0, 0, 5, 1.0, 7441.0, 59],\n",
       "       [1, 1, 2, 0, 5, 1.0, 7583.0, 57],\n",
       "       [1, 0, 0, 0, 6, 1.0, 3069.0, 5],\n",
       "       [1, 1, 0, 0, 0, 1.0, 7482.0, 23],\n",
       "       [1, 1, 0, 0, 5, 1.0, 4801.0, 22],\n",
       "       [1, 1, 2, 0, 5, 1.0, 11179.0, 60],\n",
       "       [1, 0, 1, 0, 3, 1.0, 3667.0, 25],\n",
       "       [1, 1, 1, 0, 5, 1.0, 4545.0, 19],\n",
       "       [0, 1, 0, 1, 5, 1.0, 3572.0, 17],\n",
       "       [1, 0, 0, 0, 5, 1.0, 3167.0, 6],\n",
       "       [1, 1, 1, 0, 1, 1.0, 7283.0, 50],\n",
       "       [1, 1, 3, 0, 4, 0.0, 7167.0, 54],\n",
       "       [0, 0, 0, 0, 5, 1.0, 2900.0, 5],\n",
       "       [1, 0, 0, 1, 3, 0.0, 5454.0, 32],\n",
       "       [1, 0, 0, 0, 3, 1.0, 6950.0, 51],\n",
       "       [1, 0, 0, 0, 5, 1.0, 5762.0, 43],\n",
       "       [1, 1, 2, 1, 5, 1.0, 5093.0, 9],\n",
       "       [1, 1, 1, 0, 5, 1.0, 9538.0, 57],\n",
       "       [1, 1, 0, 0, 5, 1.0, 7977.0, 62],\n",
       "       [1, 1, 0, 0, 5, 1.0, 3539.0, 17],\n",
       "       [1, 1, 2, 0, 5, 1.0, 10819.0, 28],\n",
       "       [1, 0, 0, 0, 3, 1.0, 10383.0, 28],\n",
       "       [1, 1, 3, 0, 5, 1.0, 5703.0, 33],\n",
       "       [1, 0, 0, 0, 5, 1.0, 4950.0, 31],\n",
       "       [1, 0, 0, 1, 5, 1.0, 4750.0, 19],\n",
       "       [0, 0, 0, 0, 5, 1.0, 3410.0, 11],\n",
       "       [1, 1, 0, 1, 5, 1.0, 3849.0, 14],\n",
       "       [1, 1, 3, 1, 3, 1.0, 3522.0, 9],\n",
       "       [1, 0, 0, 0, 5, 1.0, 6400.0, 60],\n",
       "       [0, 0, 0, 0, 5, 1.0, 3418.0, 38],\n",
       "       [1, 0, 0, 0, 6, 1.0, 3750.0, 25],\n",
       "       [1, 1, 2, 0, 5, 1.0, 3900.0, 4],\n",
       "       [1, 1, 0, 1, 5, 0.0, 5558.0, 61],\n",
       "       [1, 1, 0, 0, 3, 0.0, 4949.0, 12],\n",
       "       [0, 0, 0, 0, 5, 1.0, 4292.0, 10],\n",
       "       [1, 0, 0, 0, 5, 1.0, 4269.0, 37],\n",
       "       [1, 1, 2, 0, 5, 1.0, 7100.0, 52],\n",
       "       [1, 1, 3, 0, 5, 1.0, 13746.0, 34],\n",
       "       [1, 1, 0, 0, 5, 1.0, 14583.0, 73],\n",
       "       [1, 1, 3, 1, 3, 0.0, 4611.0, 4],\n",
       "       [1, 1, 1, 0, 5, 1.0, 3428.0, 15]], dtype=object)"
      ]
     },
     "execution_count": 59,
     "metadata": {},
     "output_type": "execute_result"
    }
   ],
   "source": [
    "X_test"
   ]
  },
  {
   "cell_type": "code",
   "execution_count": 60,
   "id": "510445bd",
   "metadata": {},
   "outputs": [
    {
     "data": {
      "text/plain": [
       "array([1, 0, 1, 0, 1, 0, 1, 1, 0, 1, 1, 1, 1, 1, 1, 0, 0, 1, 1, 0, 0, 1,\n",
       "       1, 1, 1, 1, 1, 1, 0, 0, 1, 1, 1, 1, 1, 0, 1, 1, 1, 1, 1, 0, 1, 1,\n",
       "       1, 1, 1, 1, 0, 1, 1, 1, 1, 1, 1, 1, 1, 0, 1, 1, 1, 0, 1, 0, 1, 1,\n",
       "       1, 1, 1, 1, 0, 1, 1, 1, 1, 1, 0, 0, 1, 0, 1, 0, 0, 1, 0, 1, 1, 1,\n",
       "       1, 1, 1, 0, 0, 0, 1, 0, 1, 1, 1, 1, 1, 1, 1, 0, 1, 1, 1, 1, 1, 0,\n",
       "       1, 0, 0, 1, 0, 1, 1, 1, 1, 1, 1, 0, 1], dtype=int64)"
      ]
     },
     "execution_count": 60,
     "metadata": {},
     "output_type": "execute_result"
    }
   ],
   "source": [
    "Y_test"
   ]
  },
  {
   "cell_type": "markdown",
   "id": "3e0439dd",
   "metadata": {},
   "source": [
    "# Model building"
   ]
  },
  {
   "cell_type": "code",
   "execution_count": 61,
   "id": "cc1f11ce",
   "metadata": {},
   "outputs": [],
   "source": [
    "from sklearn.preprocessing import StandardScaler\n",
    "ss=StandardScaler()\n",
    "X_train=ss.fit_transform(X_train)\n",
    "X_test=ss.fit_transform(X_test)"
   ]
  },
  {
   "cell_type": "markdown",
   "id": "d76e4798",
   "metadata": {},
   "source": [
    "##Decision Tree"
   ]
  },
  {
   "cell_type": "code",
   "execution_count": 62,
   "id": "98481a1b",
   "metadata": {},
   "outputs": [
    {
     "data": {
      "text/plain": [
       "DecisionTreeClassifier(criterion='entropy', random_state=0)"
      ]
     },
     "execution_count": 62,
     "metadata": {},
     "output_type": "execute_result"
    }
   ],
   "source": [
    "from sklearn.tree import DecisionTreeClassifier\n",
    "from sklearn import metrics\n",
    "DTClassifier= DecisionTreeClassifier(criterion='entropy',random_state=0)\n",
    "DTClassifier.fit(X_train,Y_train)"
   ]
  },
  {
   "cell_type": "code",
   "execution_count": 68,
   "id": "e73dc782",
   "metadata": {},
   "outputs": [
    {
     "name": "stdout",
     "output_type": "stream",
     "text": [
      "[0 1 0 1 1 0 0 0 0 1 1 0 1 1 1 1 0 0 1 0 0 0 1 1 1 1 1 1 0 0 0 1 0 0 1 0 0\n",
      " 1 1 1 1 0 0 1 1 1 0 1 1 1 0 1 1 1 1 1 1 1 1 1 0 1 1 0 1 1 1 1 1 0 0 1 1 0\n",
      " 1 1 1 0 1 0 1 0 1 1 0 1 1 1 0 1 1 0 0 0 1 1 1 1 0 1 1 0 1 1 1 1 0 1 1 0 1\n",
      " 1 0 1 0 0 0 0 1 1 0 0 0]\n",
      "The accuracy of decision tree is: 0.6991869918699187\n"
     ]
    }
   ],
   "source": [
    "Y_pred_DT= DTClassifier.predict(X_test)\n",
    "print(Y_pred_DT)\n",
    "print('The accuracy of decision tree is:', metrics.accuracy_score(Y_pred_DT,Y_test))"
   ]
  },
  {
   "cell_type": "code",
   "execution_count": null,
   "id": "bfe35e7b",
   "metadata": {},
   "outputs": [],
   "source": [
    "##Logistic Regression"
   ]
  },
  {
   "cell_type": "code",
   "execution_count": 64,
   "id": "fe2a216f",
   "metadata": {},
   "outputs": [
    {
     "data": {
      "text/plain": [
       "LogisticRegression(random_state=0)"
      ]
     },
     "execution_count": 64,
     "metadata": {},
     "output_type": "execute_result"
    }
   ],
   "source": [
    "from sklearn.linear_model import LogisticRegression\n",
    "LogClassifier= LogisticRegression(random_state=0)\n",
    "LogClassifier.fit(X_train,Y_train)"
   ]
  },
  {
   "cell_type": "code",
   "execution_count": 69,
   "id": "0ab3ea0d",
   "metadata": {},
   "outputs": [
    {
     "name": "stdout",
     "output_type": "stream",
     "text": [
      "[1 1 1 1 1 0 1 1 0 1 1 1 1 1 1 1 1 1 1 0 0 1 1 1 1 1 1 1 0 0 1 1 1 1 1 0 1\n",
      " 1 1 1 1 0 1 1 1 1 1 1 1 1 1 1 1 1 1 1 1 1 1 1 0 1 1 0 1 1 1 1 1 1 1 1 1 1\n",
      " 1 1 1 1 1 0 1 1 1 1 1 1 1 1 1 1 1 1 1 0 1 0 1 1 1 1 1 1 1 1 1 1 1 1 1 1 1\n",
      " 1 1 1 0 0 1 1 1 1 1 0 1]\n",
      "The accuracy of Logistic Regression is: 0.8292682926829268\n"
     ]
    }
   ],
   "source": [
    "Y_pred_LR= LogClassifier.predict(X_test)\n",
    "print(Y_pred_LR)\n",
    "print('The accuracy of Logistic Regression is:', metrics.accuracy_score(Y_pred_LR,Y_test))"
   ]
  },
  {
   "cell_type": "code",
   "execution_count": null,
   "id": "049843c2",
   "metadata": {},
   "outputs": [],
   "source": [
    "##Random Forest"
   ]
  },
  {
   "cell_type": "code",
   "execution_count": 66,
   "id": "a8e844e6",
   "metadata": {},
   "outputs": [
    {
     "data": {
      "text/plain": [
       "RandomForestClassifier()"
      ]
     },
     "execution_count": 66,
     "metadata": {},
     "output_type": "execute_result"
    }
   ],
   "source": [
    "from sklearn.ensemble import RandomForestClassifier\n",
    "randomC= RandomForestClassifier(n_estimators=100)\n",
    "randomC.fit(X_train,Y_train)"
   ]
  },
  {
   "cell_type": "code",
   "execution_count": 70,
   "id": "8d71d691",
   "metadata": {},
   "outputs": [
    {
     "name": "stdout",
     "output_type": "stream",
     "text": [
      "[1 1 0 1 1 0 1 0 0 1 0 0 1 1 1 1 1 0 0 0 0 1 1 1 1 1 1 1 0 0 1 1 1 1 1 0 1\n",
      " 1 1 1 0 0 0 1 1 0 0 1 1 1 0 1 1 1 1 1 1 1 1 1 0 0 1 0 1 1 1 1 1 1 1 0 1 1\n",
      " 1 1 1 1 1 0 1 0 1 1 0 1 1 1 0 1 1 0 1 0 0 0 1 1 1 1 1 0 1 1 1 1 1 0 1 0 1\n",
      " 0 0 1 0 0 1 1 1 1 0 0 0]\n",
      "The accuracy of Random Forest is: 0.7398373983739838\n"
     ]
    }
   ],
   "source": [
    "Y_pred_RF= randomC.predict(X_test)\n",
    "print(Y_pred_RF)\n",
    "print('The accuracy of Random Forest is:', metrics.accuracy_score(Y_pred_RF,Y_test))"
   ]
  },
  {
   "cell_type": "code",
   "execution_count": null,
   "id": "ef3c955b",
   "metadata": {},
   "outputs": [],
   "source": [
    "##Support Vector Machine"
   ]
  },
  {
   "cell_type": "code",
   "execution_count": 71,
   "id": "37ea2e46",
   "metadata": {},
   "outputs": [
    {
     "data": {
      "text/plain": [
       "SVC(random_state=1)"
      ]
     },
     "execution_count": 71,
     "metadata": {},
     "output_type": "execute_result"
    }
   ],
   "source": [
    "from sklearn.svm import SVC\n",
    "svm = SVC(kernel='rbf', random_state = 1)\n",
    "svm.fit(X_train,Y_train)"
   ]
  },
  {
   "cell_type": "code",
   "execution_count": 72,
   "id": "3265f701",
   "metadata": {},
   "outputs": [
    {
     "name": "stdout",
     "output_type": "stream",
     "text": [
      "[1 1 1 1 1 0 1 1 0 1 1 1 1 1 1 1 1 1 1 0 0 1 1 1 1 1 1 1 0 0 1 1 1 1 1 0 1\n",
      " 1 1 1 1 0 1 1 1 1 1 1 1 1 1 1 1 1 1 1 1 1 1 1 0 1 1 0 1 1 1 1 1 1 1 1 1 1\n",
      " 1 1 1 1 1 0 1 1 1 1 1 1 1 1 1 1 1 1 1 0 1 0 1 1 1 1 1 1 1 1 1 1 1 1 1 1 1\n",
      " 1 1 1 0 0 1 1 1 1 1 0 1]\n",
      "The accuracy of svm is: 0.8292682926829268\n"
     ]
    }
   ],
   "source": [
    "Y_pred_svm = svm.predict(X_test)\n",
    "print(Y_pred_svm)\n",
    "print('The accuracy of svm is:', metrics.accuracy_score(Y_pred_svm,Y_test))"
   ]
  },
  {
   "cell_type": "code",
   "execution_count": 73,
   "id": "60be11e4",
   "metadata": {},
   "outputs": [
    {
     "name": "stdout",
     "output_type": "stream",
     "text": [
      "[[21 12]\n",
      " [20 70]]\n"
     ]
    }
   ],
   "source": [
    "print(metrics.confusion_matrix(Y_test, Y_pred))"
   ]
  },
  {
   "cell_type": "code",
   "execution_count": 74,
   "id": "13a2741a",
   "metadata": {},
   "outputs": [],
   "source": [
    "from sklearn.metrics import r2_score"
   ]
  },
  {
   "cell_type": "code",
   "execution_count": 75,
   "id": "ddedc972",
   "metadata": {},
   "outputs": [
    {
     "name": "stdout",
     "output_type": "stream",
     "text": [
      "r2 score for perfect model is -0.3252525252525251\n"
     ]
    }
   ],
   "source": [
    "r2 = r2_score(Y_test, Y_pred)\n",
    "print('r2 score for perfect model is', r2)"
   ]
  },
  {
   "cell_type": "markdown",
   "id": "fcfa3a68",
   "metadata": {},
   "source": [
    "# Imputing test dataset"
   ]
  },
  {
   "cell_type": "code",
   "execution_count": 76,
   "id": "6401913c",
   "metadata": {},
   "outputs": [
    {
     "data": {
      "text/plain": [
       "Loan_ID               0\n",
       "Gender               11\n",
       "Married               0\n",
       "Dependents           10\n",
       "Education             0\n",
       "Self_Employed        23\n",
       "ApplicantIncome       0\n",
       "CoapplicantIncome     0\n",
       "LoanAmount            5\n",
       "Loan_Amount_Term      6\n",
       "Credit_History       29\n",
       "Property_Area         0\n",
       "dtype: int64"
      ]
     },
     "execution_count": 76,
     "metadata": {},
     "output_type": "execute_result"
    }
   ],
   "source": [
    "test.isnull().sum()"
   ]
  },
  {
   "cell_type": "code",
   "execution_count": 77,
   "id": "fa2a42e9",
   "metadata": {},
   "outputs": [],
   "source": [
    "test['Gender'].fillna(test['Gender'].mode()[0],inplace=True)\n",
    "test['Dependents'].fillna(test['Dependents'].mode()[0],inplace=True)\n",
    "test['Self_Employed'].fillna(test['Self_Employed'].mode()[0],inplace=True)\n",
    "test['Loan_Amount_Term'].fillna(test['Loan_Amount_Term'].mode()[0],inplace=True)\n",
    "test['Credit_History'].fillna(test['Credit_History'].mode()[0],inplace=True)"
   ]
  },
  {
   "cell_type": "code",
   "execution_count": 78,
   "id": "26526796",
   "metadata": {},
   "outputs": [],
   "source": [
    "test.LoanAmount=test.LoanAmount.fillna(test.LoanAmount.mean())"
   ]
  },
  {
   "cell_type": "code",
   "execution_count": 79,
   "id": "8d551915",
   "metadata": {},
   "outputs": [],
   "source": [
    "test['LoanAmount_log']=np.log(test['LoanAmount'])"
   ]
  },
  {
   "cell_type": "code",
   "execution_count": 80,
   "id": "ba8d14dd",
   "metadata": {},
   "outputs": [],
   "source": [
    "test['TotalIncome']= test['ApplicantIncome']+test['CoapplicantIncome']\n",
    "test['TotalIncome_log']= np.log(test['TotalIncome'])"
   ]
  },
  {
   "cell_type": "markdown",
   "id": "e291c5ea",
   "metadata": {},
   "source": [
    "# Splitting test set"
   ]
  },
  {
   "cell_type": "code",
   "execution_count": 81,
   "id": "d7a4c30b",
   "metadata": {},
   "outputs": [],
   "source": [
    "Test= test.iloc[:,np.r_[1:5,9:11,13:15]].values"
   ]
  },
  {
   "cell_type": "code",
   "execution_count": 82,
   "id": "eef07f96",
   "metadata": {},
   "outputs": [],
   "source": [
    "for i in range(0,5):\n",
    "    Test[:,i]=labelencoder_X.fit_transform(Test[:,i])"
   ]
  },
  {
   "cell_type": "code",
   "execution_count": 83,
   "id": "490eeebd",
   "metadata": {},
   "outputs": [],
   "source": [
    "Test[:,7]= labelencoder_X.fit_transform(Test[:,7])"
   ]
  },
  {
   "cell_type": "code",
   "execution_count": 84,
   "id": "fbe4c4d5",
   "metadata": {},
   "outputs": [
    {
     "data": {
      "text/plain": [
       "array([[1, 1, 0, ..., 1.0, 5720, 207],\n",
       "       [1, 1, 1, ..., 1.0, 4576, 124],\n",
       "       [1, 1, 2, ..., 1.0, 6800, 251],\n",
       "       ...,\n",
       "       [1, 0, 0, ..., 1.0, 5243, 174],\n",
       "       [1, 1, 0, ..., 1.0, 7393, 268],\n",
       "       [1, 0, 0, ..., 1.0, 9200, 311]], dtype=object)"
      ]
     },
     "execution_count": 84,
     "metadata": {},
     "output_type": "execute_result"
    }
   ],
   "source": [
    "Test"
   ]
  },
  {
   "cell_type": "code",
   "execution_count": 85,
   "id": "d9af4da1",
   "metadata": {},
   "outputs": [],
   "source": [
    "Test= ss.fit_transform(Test)"
   ]
  },
  {
   "cell_type": "markdown",
   "id": "491f0ed4",
   "metadata": {},
   "source": [
    "# Prediction by different models"
   ]
  },
  {
   "cell_type": "code",
   "execution_count": 90,
   "id": "3d063a73",
   "metadata": {},
   "outputs": [
    {
     "name": "stdout",
     "output_type": "stream",
     "text": [
      "221\n",
      "[0 1 1 1 0 1 0 0 1 1 0 1 1 0 1 1 1 1 0 1 0 0 1 0 0 0 1 1 1 1 1 1 1 1 1 0 1\n",
      " 1 1 1 0 0 0 1 0 1 1 1 0 1 1 1 0 1 1 0 1 0 0 0 1 1 1 0 1 0 0 0 1 0 1 1 0 1\n",
      " 1 1 1 0 1 1 0 1 0 1 0 1 1 1 1 1 1 1 1 0 0 1 1 0 0 1 1 0 1 0 1 1 0 1 1 1 1\n",
      " 1 1 1 1 1 0 0 0 0 1 1 1 0 0 1 0 1 1 1 1 1 1 0 1 1 1 1 0 1 0 0 0 0 1 1 0 0\n",
      " 1 1 0 1 1 0 1 1 1 0 1 1 1 0 1 1 1 0 0 1 0 1 1 1 0 0 0 0 0 1 1 1 0 1 1 1 1\n",
      " 1 1 1 1 1 0 1 0 0 1 1 0 0 0 1 1 0 1 1 1 1 1 1 1 1 0 0 1 0 1 1 0 0 0 0 1 0\n",
      " 1 1 0 1 1 1 1 0 0 1 0 1 1 0 0 0 0 1 0 0 1 0 0 0 1 0 1 1 0 1 1 1 1 0 1 1 0\n",
      " 1 1 1 1 0 1 0 0 1 0 1 1 1 0 0 0 1 0 1 0 0 1 1 1 1 0 1 1 0 1 1 0 0 0 0 1 1\n",
      " 0 0 0 1 1 0 1 0 1 0 1 0 1 1 1 0 1 1 1 1 1 0 1 1 1 0 1 0 1 0 0 1 1 1 1 0 0\n",
      " 1 1 0 1 1 0 0 0 1 0 1 0 1 0 1 1 0 1 0 0 1 0 1 1 0 0 0 1 1 1 1 1 0 1]\n"
     ]
    }
   ],
   "source": [
    "pred_DT= DTClassifier.predict(Test)\n",
    "print(np.count_nonzero(pred_DT))\n",
    "print(pred_DT)"
   ]
  },
  {
   "cell_type": "code",
   "execution_count": 91,
   "id": "4718e978",
   "metadata": {},
   "outputs": [
    {
     "name": "stdout",
     "output_type": "stream",
     "text": [
      "308\n",
      "[1 1 1 1 1 1 1 0 1 1 1 1 1 0 1 1 1 1 1 1 1 1 1 1 1 0 1 1 1 1 1 1 1 1 1 0 1\n",
      " 1 1 1 1 1 1 1 1 1 1 1 1 1 1 1 1 1 1 0 1 1 0 1 1 1 1 0 1 1 0 0 1 0 1 1 1 1\n",
      " 1 1 1 1 1 1 0 1 0 1 0 1 1 1 1 1 1 1 1 1 0 1 1 1 1 1 1 0 1 1 1 1 0 1 1 1 1\n",
      " 1 1 1 1 1 1 0 0 0 1 1 1 0 0 1 0 1 1 1 1 1 1 1 1 1 1 1 1 1 0 1 0 1 1 1 1 0\n",
      " 1 1 1 1 1 0 1 1 1 1 1 1 1 0 1 1 1 0 0 1 0 1 1 1 1 0 0 1 1 1 1 1 1 1 1 1 1\n",
      " 1 1 1 1 1 1 1 0 0 1 1 0 1 0 1 1 1 1 1 1 1 1 1 1 1 1 0 1 1 1 1 1 1 1 1 1 1\n",
      " 1 1 0 1 1 1 1 0 1 1 1 1 1 0 0 1 1 1 1 0 1 0 1 0 1 1 1 1 0 1 1 1 1 0 1 1 1\n",
      " 1 1 1 1 1 1 1 0 1 0 1 1 1 1 0 0 1 1 1 0 1 1 1 1 1 1 1 1 1 1 1 1 1 1 0 1 1\n",
      " 1 1 1 1 1 0 1 1 1 1 1 1 1 1 1 0 1 1 1 1 1 0 1 1 1 1 1 1 1 0 1 1 1 1 1 1 1\n",
      " 1 1 1 1 1 1 0 1 1 1 1 1 1 0 1 1 1 1 1 1 1 0 1 1 1 1 1 1 1 1 1 1 1 1]\n"
     ]
    }
   ],
   "source": [
    "pred_LR= LogClassifier.predict(Test)\n",
    "print(np.count_nonzero(pred_LR))\n",
    "print(pred_LR)"
   ]
  },
  {
   "cell_type": "code",
   "execution_count": 92,
   "id": "35d74444",
   "metadata": {},
   "outputs": [
    {
     "name": "stdout",
     "output_type": "stream",
     "text": [
      "279\n",
      "[1 1 1 1 0 1 0 0 1 1 1 1 1 0 1 1 1 1 0 1 1 0 1 1 1 0 1 1 1 1 1 1 1 1 1 0 1\n",
      " 1 1 1 1 1 1 1 1 1 1 1 0 1 1 1 1 1 1 0 1 1 0 1 1 1 1 0 1 1 0 0 1 0 1 1 1 1\n",
      " 1 0 1 1 1 1 0 1 0 1 0 1 1 1 1 1 1 1 1 1 0 1 1 0 1 1 1 0 1 1 1 1 0 1 1 1 1\n",
      " 1 1 1 1 1 0 0 0 0 1 1 1 0 0 1 0 1 1 1 1 1 1 1 1 1 1 1 1 1 0 1 1 0 1 0 0 0\n",
      " 1 1 0 1 1 0 1 1 1 1 1 1 1 0 1 1 1 0 0 1 0 1 1 1 1 0 0 1 1 1 1 1 1 1 1 1 1\n",
      " 1 1 1 1 1 1 1 1 0 1 1 0 0 0 1 1 1 1 1 1 1 1 1 1 1 0 0 1 1 1 1 1 1 1 1 1 1\n",
      " 1 1 0 0 1 1 1 0 0 1 1 1 1 0 0 0 1 0 1 0 1 0 1 0 1 1 1 1 0 1 1 1 1 0 1 1 0\n",
      " 1 1 1 1 0 1 0 0 1 0 1 1 1 0 0 0 1 1 1 0 0 1 1 1 1 1 1 1 1 1 1 1 1 0 0 1 1\n",
      " 1 1 1 1 1 0 0 0 1 1 1 1 1 1 1 0 1 1 1 1 1 0 1 1 1 1 1 0 1 0 1 1 1 1 1 1 1\n",
      " 1 1 0 1 1 1 0 1 1 1 1 1 1 0 1 1 1 1 0 0 1 0 1 1 0 1 1 1 1 1 1 1 1 1]\n"
     ]
    }
   ],
   "source": [
    "pred_RF= randomC.predict(Test)\n",
    "print(np.count_nonzero(pred_RF))\n",
    "print(pred_RF)"
   ]
  },
  {
   "cell_type": "code",
   "execution_count": 93,
   "id": "51b1640e",
   "metadata": {},
   "outputs": [
    {
     "name": "stdout",
     "output_type": "stream",
     "text": [
      "309\n",
      "[1 1 1 1 1 1 1 0 1 1 1 1 1 0 1 1 1 1 1 1 1 1 1 1 1 0 1 1 1 1 1 1 1 1 1 0 1\n",
      " 1 1 1 1 1 1 1 1 1 1 1 1 1 1 1 1 1 1 0 1 1 0 1 1 1 1 0 1 1 0 0 1 0 1 1 1 1\n",
      " 1 1 1 1 1 1 0 1 0 1 0 1 1 1 1 1 1 1 1 1 0 1 1 1 1 1 1 0 1 1 1 1 0 1 1 1 1\n",
      " 1 1 1 1 1 1 0 0 0 1 1 1 0 0 1 0 1 1 1 1 1 1 1 1 1 1 1 1 1 0 1 0 1 1 1 1 0\n",
      " 1 1 1 1 1 0 1 1 1 1 1 1 1 0 1 1 1 0 0 1 0 1 1 1 1 0 0 1 1 1 1 1 1 1 1 1 1\n",
      " 1 1 1 1 1 1 1 0 0 1 1 0 1 0 1 1 1 1 1 1 1 1 1 1 1 1 0 1 1 1 1 1 1 1 1 1 1\n",
      " 1 1 0 1 1 1 1 0 1 1 1 1 1 0 0 1 1 1 1 0 1 0 1 0 1 1 1 1 0 1 1 1 1 0 1 1 1\n",
      " 1 1 1 1 1 1 1 0 1 0 1 1 1 1 0 0 1 1 1 0 1 1 1 1 1 1 1 1 1 1 1 1 1 1 0 1 1\n",
      " 1 1 1 1 1 0 1 1 1 1 1 1 1 1 1 0 1 1 1 1 1 0 1 1 1 1 1 1 1 1 1 1 1 1 1 1 1\n",
      " 1 1 1 1 1 1 0 1 1 1 1 1 1 0 1 1 1 1 1 1 1 0 1 1 1 1 1 1 1 1 1 1 1 1]\n"
     ]
    }
   ],
   "source": [
    "pred_svm= svm.predict(Test)\n",
    "print(np.count_nonzero(pred_svm))\n",
    "print(pred_svm)"
   ]
  },
  {
   "cell_type": "code",
   "execution_count": null,
   "id": "cb1c7acd",
   "metadata": {},
   "outputs": [],
   "source": []
  }
 ],
 "metadata": {
  "kernelspec": {
   "display_name": "Python 3",
   "language": "python",
   "name": "python3"
  },
  "language_info": {
   "codemirror_mode": {
    "name": "ipython",
    "version": 3
   },
   "file_extension": ".py",
   "mimetype": "text/x-python",
   "name": "python",
   "nbconvert_exporter": "python",
   "pygments_lexer": "ipython3",
   "version": "3.9.6"
  }
 },
 "nbformat": 4,
 "nbformat_minor": 5
}
